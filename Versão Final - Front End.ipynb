{
 "cells": [
  {
   "cell_type": "code",
   "execution_count": 7,
   "id": "c4027856-5b68-4b4d-8299-cf9b03d35ec6",
   "metadata": {},
   "outputs": [
    {
     "ename": "ModuleNotFoundError",
     "evalue": "No module named 'your_module'",
     "output_type": "error",
     "traceback": [
      "\u001b[1;31m---------------------------------------------------------------------------\u001b[0m",
      "\u001b[1;31mModuleNotFoundError\u001b[0m                       Traceback (most recent call last)",
      "Cell \u001b[1;32mIn[7], line 4\u001b[0m\n\u001b[0;32m      2\u001b[0m \u001b[38;5;28;01mimport\u001b[39;00m\u001b[38;5;250m \u001b[39m\u001b[38;5;21;01mtempfile\u001b[39;00m\n\u001b[0;32m      3\u001b[0m \u001b[38;5;28;01mimport\u001b[39;00m\u001b[38;5;250m \u001b[39m\u001b[38;5;21;01mpandas\u001b[39;00m\u001b[38;5;250m \u001b[39m\u001b[38;5;28;01mas\u001b[39;00m\u001b[38;5;250m \u001b[39m\u001b[38;5;21;01mpd\u001b[39;00m\n\u001b[1;32m----> 4\u001b[0m \u001b[38;5;28;01mfrom\u001b[39;00m\u001b[38;5;250m \u001b[39m\u001b[38;5;21;01myour_module\u001b[39;00m\u001b[38;5;250m \u001b[39m\u001b[38;5;28;01mimport\u001b[39;00m process_nda  \u001b[38;5;66;03m# You’ll wrap your logic into this\u001b[39;00m\n\u001b[0;32m      6\u001b[0m st\u001b[38;5;241m.\u001b[39mset_page_config(page_title\u001b[38;5;241m=\u001b[39m\u001b[38;5;124m\"\u001b[39m\u001b[38;5;124mNDA Clause Rewriter\u001b[39m\u001b[38;5;124m\"\u001b[39m)\n\u001b[0;32m      8\u001b[0m st\u001b[38;5;241m.\u001b[39mtitle(\u001b[38;5;124m\"\u001b[39m\u001b[38;5;124m📄 NDA Clause Rewriter\u001b[39m\u001b[38;5;124m\"\u001b[39m)\n",
      "\u001b[1;31mModuleNotFoundError\u001b[0m: No module named 'your_module'"
     ]
    }
   ],
   "source": [
    "import streamlit as st\n",
    "import tempfile\n",
    "import pandas as pd\n",
    "from backend.processor import process_nda  # You’ll wrap your logic into this\n",
    "\n",
    "st.set_page_config(page_title=\"NDA Clause Rewriter\")\n",
    "\n",
    "st.title(\"📄 NDA Clause Rewriter\")\n",
    "\n",
    "uploaded_file = st.file_uploader(\"Upload your NDA (.docx)\", type=[\"docx\"])\n",
    "\n",
    "if uploaded_file is not None:\n",
    "    with tempfile.NamedTemporaryFile(delete=False, suffix=\".docx\") as tmp_file:\n",
    "        tmp_file.write(uploaded_file.read())\n",
    "        tmp_path = tmp_file.name\n",
    "\n",
    "    st.info(\"Processing... This might take a minute.\")\n",
    "    \n",
    "    df_result = classify_and_rewrite_clauses(tmp_path)  # Your function returns a DataFrame\n",
    "\n",
    "    st.success(\"Done! Download your results below:\")\n",
    "    st.download_button(\n",
    "        label=\"📥 Download Excel Output\",\n",
    "        data=df_result.to_excel(index=False, engine='openpyxl'),\n",
    "        file_name=\"nda_clauses_rewritten.xlsx\",\n",
    "        mime=\"application/vnd.openxmlformats-officedocument.spreadsheetml.sheet\"\n",
    "    )\n"
   ]
  },
  {
   "cell_type": "code",
   "execution_count": null,
   "id": "4c20c90a-9c99-4594-8b3a-a341b4615dc7",
   "metadata": {},
   "outputs": [],
   "source": []
  }
 ],
 "metadata": {
  "kernelspec": {
   "display_name": "Python nda_env",
   "language": "python",
   "name": "nda_env"
  },
  "language_info": {
   "codemirror_mode": {
    "name": "ipython",
    "version": 3
   },
   "file_extension": ".py",
   "mimetype": "text/x-python",
   "name": "python",
   "nbconvert_exporter": "python",
   "pygments_lexer": "ipython3",
   "version": "3.12.4"
  }
 },
 "nbformat": 4,
 "nbformat_minor": 5
}
